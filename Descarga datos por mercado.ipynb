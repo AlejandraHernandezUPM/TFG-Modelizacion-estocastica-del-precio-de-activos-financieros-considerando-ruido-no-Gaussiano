{
 "cells": [
  {
   "cell_type": "code",
   "execution_count": 1,
   "id": "9a95f43e-88c2-406f-a9ed-66a839ebb622",
   "metadata": {},
   "outputs": [],
   "source": [
    "import yfinance as yf"
   ]
  },
  {
   "cell_type": "code",
   "execution_count": 2,
   "id": "80997016-2f44-4641-b08a-0e1904711b5e",
   "metadata": {},
   "outputs": [],
   "source": [
    "inicio = \"2015-01-01\""
   ]
  },
  {
   "cell_type": "markdown",
   "id": "d0453618-c39c-444b-819c-f397ba673a08",
   "metadata": {},
   "source": [
    "### NYSE (Bolsa de Nueva York)"
   ]
  },
  {
   "cell_type": "code",
   "execution_count": 3,
   "id": "e7351736-ac3d-47bd-8384-ab18220ef23e",
   "metadata": {},
   "outputs": [
    {
     "name": "stdout",
     "output_type": "stream",
     "text": [
      "YF.download() has changed argument auto_adjust default to True\n"
     ]
    },
    {
     "name": "stderr",
     "output_type": "stream",
     "text": [
      "[*********************100%***********************]  10 of 10 completed\n"
     ]
    }
   ],
   "source": [
    "# NYSE (Bolsa de Nueva York)\n",
    "nyse_top_10 = [\n",
    "    \"BRK-B\",   # Berkshire Hathaway Inc.\n",
    "    \"JPM\",     # JPMorgan Chase & Co.\n",
    "    \"V\",       # Visa Inc.\n",
    "    \"JNJ\",     # Johnson & Johnson\n",
    "    \"WMT\",     # Walmart Inc.\n",
    "    \"PG\",      # Procter & Gamble Co.\n",
    "    \"MA\",      # Mastercard Incorporated\n",
    "    \"UNH\",     # UnitedHealth Group Incorporated\n",
    "    \"HD\",      # The Home Depot, Inc.\n",
    "    \"DIS\"      # The Walt Disney Company\n",
    "]\n",
    "datos_nyse_top_10 = yf.download(nyse_top_10, start=inicio)[\"Close\"].dropna()\n",
    "datos_nyse_top_10.to_csv('NYSE.csv', sep=',', index=False, encoding='utf-8')"
   ]
  },
  {
   "cell_type": "markdown",
   "id": "fe003a3f-c569-44b3-9d5b-50c65ad94b83",
   "metadata": {},
   "source": [
    "### NASDAQ"
   ]
  },
  {
   "cell_type": "code",
   "execution_count": 4,
   "id": "0452a1ed-720f-4d4b-a262-158d38acf32f",
   "metadata": {},
   "outputs": [
    {
     "name": "stderr",
     "output_type": "stream",
     "text": [
      "[*********************100%***********************]  10 of 10 completed\n"
     ]
    }
   ],
   "source": [
    "# NASDAQ\n",
    "nasdaq_top_10 = [\n",
    "    \"AAPL\",    # Apple Inc.\n",
    "    \"MSFT\",    # Microsoft Corporation\n",
    "    \"AMZN\",    # Amazon.com, Inc.\n",
    "    \"GOOGL\",   # Alphabet Inc. (Clase A)\n",
    "    \"GOOG\",    # Alphabet Inc. (Clase C)\n",
    "    \"META\",    # Meta Platforms, Inc.\n",
    "    \"NVDA\",    # NVIDIA Corporation\n",
    "    \"TSLA\",    # Tesla, Inc.\n",
    "    \"PEP\",     # PepsiCo, Inc.\n",
    "    \"CSCO\"     # Cisco Systems, Inc.\n",
    "]\n",
    "datos_nasdaq_top_10 = yf.download(nasdaq_top_10, start=inicio)[\"Close\"].dropna()\n",
    "datos_nasdaq_top_10.to_csv('NASDAQ.csv', sep=',', index=False, encoding='utf-8')"
   ]
  },
  {
   "cell_type": "markdown",
   "id": "ccc0407c-79af-4ac9-a88e-feb173fa541d",
   "metadata": {},
   "source": [
    "### LONDON STOCK EXCHANGE (LSE)"
   ]
  },
  {
   "cell_type": "code",
   "execution_count": 5,
   "id": "b75e259a-1a32-4eb3-8fa1-2e7af91cd1d1",
   "metadata": {},
   "outputs": [
    {
     "name": "stderr",
     "output_type": "stream",
     "text": [
      "[*********************100%***********************]  10 of 10 completed\n"
     ]
    }
   ],
   "source": [
    "# London Stock Exchange (LSE)\n",
    "lse_top_10 = [\n",
    "    \"HSBA.L\",  # HSBC Holdings plc\n",
    "    \"SHEL.L\",  # Shell plc\n",
    "    \"AZN.L\",   # AstraZeneca plc\n",
    "    \"ULVR.L\",  # Unilever plc\n",
    "    \"GSK.L\",   # GSK plc\n",
    "    \"RIO.L\",   # Rio Tinto Group\n",
    "    \"BATS.L\",  # British American Tobacco plc\n",
    "    \"DGE.L\",   # Diageo plc\n",
    "    \"BP.L\",    # BP plc\n",
    "    \"BHP.L\"    # BHP Group plc\n",
    "]\n",
    "datos_lse_top_10 = yf.download(lse_top_10, start=inicio)[\"Close\"].dropna()\n",
    "datos_lse_top_10.to_csv('LSE.csv', sep=',', index=False, encoding='utf-8')"
   ]
  },
  {
   "cell_type": "markdown",
   "id": "bfa14dba-dba3-4a4c-93bf-a7be162b25ef",
   "metadata": {},
   "source": [
    "### EURONEXT"
   ]
  },
  {
   "cell_type": "code",
   "execution_count": 6,
   "id": "e37f5926-2b82-434a-a268-d5e385e44a7b",
   "metadata": {
    "scrolled": true
   },
   "outputs": [
    {
     "name": "stderr",
     "output_type": "stream",
     "text": [
      "[*********************100%***********************]  10 of 10 completed\n"
     ]
    }
   ],
   "source": [
    "# Euronext\n",
    "euronext_top_10 = [\n",
    "    \"MC.PA\",   # LVMH Moët Hennessy Louis Vuitton SE\n",
    "    \"OR.PA\",   # L'Oréal S.A.\n",
    "    \"SAN.PA\",  # Sanofi\n",
    "    \"AIR.PA\",  # Airbus SE\n",
    "    \"BNP.PA\",  # BNP Paribas S.A.\n",
    "    \"DG.PA\",   # Vinci S.A.\n",
    "    \"EN.PA\",   # Bouygues S.A.\n",
    "    \"KER.PA\",  # Kering S.A.\n",
    "    \"AI.PA\",   # Air Liquide S.A.\n",
    "    \"VIE.PA\"   # Veolia Environnement S.A.\n",
    "]\n",
    "datos_euronext_top_10 = yf.download(euronext_top_10, start=inicio)[\"Close\"].dropna()\n",
    "datos_euronext_top_10.to_csv('EURONEXT.csv', sep=',', index=False, encoding='utf-8')"
   ]
  },
  {
   "cell_type": "markdown",
   "id": "6c32f477-f796-4a09-9df9-05b85110a26e",
   "metadata": {},
   "source": [
    "### DEUTSCHE BORSE (XETRA)"
   ]
  },
  {
   "cell_type": "code",
   "execution_count": 7,
   "id": "4b50bff6-1cf1-47ba-b0ac-407eb9e16e5e",
   "metadata": {},
   "outputs": [
    {
     "name": "stderr",
     "output_type": "stream",
     "text": [
      "[*********************100%***********************]  10 of 10 completed\n"
     ]
    }
   ],
   "source": [
    "# Deutsche Börse (Xetra)\n",
    "deutsche_borse_top_10 = [\n",
    "    \"SAP.DE\",  # SAP SE\n",
    "    \"SIE.DE\",  # Siemens AG\n",
    "    \"ALV.DE\",  # Allianz SE\n",
    "    \"DTE.DE\",  # Deutsche Telekom AG\n",
    "    \"BAS.DE\",  # BASF SE\n",
    "    \"MBG.DE\",  # Mercedes-Benz Group AG\n",
    "    \"VOW3.DE\", # Volkswagen AG\n",
    "    \"BMW.DE\",  # Bayerische Motoren Werke AG (BMW)\n",
    "    \"RWE.DE\",  # RWE AG\n",
    "    \"DBK.DE\"   # Deutsche Bank AG\n",
    "]\n",
    "datos_deutsche_top_10 = yf.download(deutsche_borse_top_10, start=inicio)[\"Close\"].dropna()\n",
    "datos_deutsche_top_10.to_csv('DEUTSCHE.csv', sep=',', index=False, encoding='utf-8')"
   ]
  },
  {
   "cell_type": "markdown",
   "id": "e84f619e-949a-468e-8130-c6f35ee39c08",
   "metadata": {},
   "source": [
    "### TOKYO STOCK EXCHANGE (TSE)"
   ]
  },
  {
   "cell_type": "code",
   "execution_count": 8,
   "id": "6d437c8a-0cb3-4fa5-864b-2eb8eb3588ba",
   "metadata": {},
   "outputs": [
    {
     "name": "stderr",
     "output_type": "stream",
     "text": [
      "[*********************100%***********************]  10 of 10 completed\n"
     ]
    }
   ],
   "source": [
    "# Tokyo Stock Exchange (TSE)\n",
    "tse_top_10 = [\n",
    "    \"7203.T\",  # Toyota Motor Corporation\n",
    "    \"6758.T\",  # Sony Group Corporation\n",
    "    \"8306.T\",  # Mitsubishi UFJ Financial Group, Inc.\n",
    "    \"6501.T\",  # Hitachi, Ltd.\n",
    "    \"8316.T\",  # Sumitomo Mitsui Financial Group, Inc.\n",
    "    \"6861.T\",  # Keyence Corporation\n",
    "    \"9983.T\",  # Fast Retailing Co., Ltd.\n",
    "    \"6098.T\",  # Recruit Holdings Co., Ltd.\n",
    "    \"7974.T\",  # Nintendo Co., Ltd.\n",
    "    \"9432.T\"   # Nippon Telegraph and Telephone Corporation (NTT)\n",
    "]\n",
    "datos_tokyo_top_10 = yf.download(tse_top_10, start=inicio)[\"Close\"].dropna()\n",
    "datos_tokyo_top_10.to_csv('TOKYO.csv', sep=',', index=False, encoding='utf-8')"
   ]
  },
  {
   "cell_type": "markdown",
   "id": "1a403a54-9755-4a96-9673-be80ed06c808",
   "metadata": {},
   "source": [
    "### Shanghai Stock Exchange (SSE)"
   ]
  },
  {
   "cell_type": "code",
   "execution_count": 9,
   "id": "79c061c6-cb8e-44d0-be9c-93b5ade5183d",
   "metadata": {},
   "outputs": [
    {
     "name": "stderr",
     "output_type": "stream",
     "text": [
      "[*********************100%***********************]  10 of 10 completed\n"
     ]
    }
   ],
   "source": [
    "# Shanghai Stock Exchange (SSE)\n",
    "sse_top_10 = [\n",
    "    \"600519.SS\",  # Kweichow Moutai Co., Ltd.\n",
    "    \"601398.SS\",  # Industrial and Commercial Bank of China Limited\n",
    "    \"601857.SS\",  # PetroChina Company Limited\n",
    "    \"601288.SS\",  # Agricultural Bank of China Limited\n",
    "    \"601988.SS\",  # Bank of China Limited\n",
    "    \"600036.SS\",  # China Merchants Bank Co., Ltd.\n",
    "    \"601939.SS\",  # China Construction Bank Corporation\n",
    "    \"600028.SS\",  # China Petroleum & Chemical Corporation (Sinopec)\n",
    "    \"601318.SS\",  # Ping An Insurance (Group) Company of China, Ltd.\n",
    "    \"601211.SS\"   # Haitong Securities Co., Ltd.\n",
    "]\n",
    "datos_sse_top_10 = yf.download(sse_top_10, start=inicio)[\"Close\"].dropna()\n",
    "datos_sse_top_10.to_csv('SSE.csv', sep=',', index=False, encoding='utf-8')"
   ]
  },
  {
   "cell_type": "markdown",
   "id": "69d239e8-6bb4-4392-9e91-b2bc2a4b6d39",
   "metadata": {},
   "source": [
    "### Hong Kong Stock Exchange (HKEX)"
   ]
  },
  {
   "cell_type": "code",
   "execution_count": 10,
   "id": "43d8ef04-63d8-4774-893e-96329a4683bf",
   "metadata": {},
   "outputs": [
    {
     "name": "stderr",
     "output_type": "stream",
     "text": [
      "[*********************100%***********************]  9 of 9 completed\n"
     ]
    }
   ],
   "source": [
    "# Hong Kong Stock Exchange (HKEX)\n",
    "hkex_top_10 = [\n",
    "    \"0700.HK\",  # Tencent Holdings Limited\n",
    "    \"0941.HK\",  # China Mobile Limited\n",
    "    \"1398.HK\",  # Industrial and Commercial Bank of China Limited\n",
    "    \"3988.HK\",  # Bank of China Limited\n",
    "    \"0939.HK\",  # China Construction Bank Corporation\n",
    "    \"0883.HK\",  # CNOOC Limited\n",
    "    \"1299.HK\",  # AIA Group Limited\n",
    "    \"3988.HK\",  # Bank of China Limited\n",
    "    \"2318.HK\",  # Ping An Insurance (Group) Company of China, Ltd.\n",
    "    \"0388.HK\"   # Hong Kong Exchanges and Clearing Limited\n",
    "]\n",
    "datos_hkex_top_10 = yf.download(hkex_top_10, start=inicio)[\"Close\"].dropna()\n",
    "datos_hkex_top_10.to_csv('HKEX.csv', sep=',', index=False, encoding='utf-8')"
   ]
  },
  {
   "cell_type": "markdown",
   "id": "e369e3fc-04e8-4f49-9879-1da9ef7e3034",
   "metadata": {},
   "source": [
    "### TADAWUL (SAUDI STOCK EXCHANGE)"
   ]
  },
  {
   "cell_type": "code",
   "execution_count": 11,
   "id": "74b2b22f-8e7f-4241-95d2-848ab2e901f3",
   "metadata": {},
   "outputs": [
    {
     "name": "stderr",
     "output_type": "stream",
     "text": [
      "[*********************100%***********************]  10 of 10 completed\n"
     ]
    }
   ],
   "source": [
    "# Tadawul (Saudi Stock Exchange)\n",
    "tadawul_top_10 = [\n",
    "    \"2222.SR\",  # Saudi Aramco\n",
    "    \"1120.SR\",  # Al Rajhi Bank\n",
    "    \"2010.SR\",  # Saudi Basic Industries Corporation (SABIC)\n",
    "    \"1180.SR\",  # The Saudi National Bank (SNB)\n",
    "    \"7010.SR\",  # Saudi Telecom Company (stc)\n",
    "    \"2380.SR\",  # Rabigh Refining and Petrochemical Company (Petro Rabigh)\n",
    "    \"1150.SR\",  # Alinma Bank\n",
    "    \"8230.SR\",  # Al Rajhi Takaful\n",
    "    \"1080.SR\",  # Arab National Bank\n",
    "    \"1211.SR\"   # Saudi Arabian Mining Company (Ma'aden)\n",
    "]\n",
    "datos_tadawul_top_10 = yf.download(tadawul_top_10, start=inicio)[\"Close\"].dropna()\n",
    "datos_tadawul_top_10.to_csv('TADAWUL.csv', sep=',', index=False, encoding='utf-8')"
   ]
  },
  {
   "cell_type": "code",
   "execution_count": null,
   "id": "1ead52cf-d57a-428d-8ffe-b89e77119824",
   "metadata": {},
   "outputs": [],
   "source": []
  }
 ],
 "metadata": {
  "kernelspec": {
   "display_name": "Python 3 (ipykernel)",
   "language": "python",
   "name": "python3"
  },
  "language_info": {
   "codemirror_mode": {
    "name": "ipython",
    "version": 3
   },
   "file_extension": ".py",
   "mimetype": "text/x-python",
   "name": "python",
   "nbconvert_exporter": "python",
   "pygments_lexer": "ipython3",
   "version": "3.8.19"
  }
 },
 "nbformat": 4,
 "nbformat_minor": 5
}
